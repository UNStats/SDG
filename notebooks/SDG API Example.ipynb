{
 "cells": [
  {
   "cell_type": "code",
   "execution_count": 89,
   "metadata": {},
   "outputs": [
    {
     "data": {
      "text/html": [
       "'Proportion of population below the international poverty line of US$1.90 per day, total (%)'"
      ],
      "text/latex": [
       "'Proportion of population below the international poverty line of US\\$1.90 per day, total (\\%)'"
      ],
      "text/markdown": [
       "'Proportion of population below the international poverty line of US$1.90 per day, total (%)'"
      ],
      "text/plain": [
       "[1] \"Proportion of population below the international poverty line of US$1.90 per day, total (%)\""
      ]
     },
     "metadata": {},
     "output_type": "display_data"
    },
    {
     "data": {
      "text/html": [
       "'Argentina'"
      ],
      "text/latex": [
       "'Argentina'"
      ],
      "text/markdown": [
       "'Argentina'"
      ],
      "text/plain": [
       "[1] \"Argentina\""
      ]
     },
     "metadata": {},
     "output_type": "display_data"
    }
   ],
   "source": [
    "library(jsonlite)\n",
    "library(ggplot2)\n",
    "\n",
    "data  <- fromJSON(\"https://unstats.un.org/SDGAPI/v1/sdg/Series/Data?seriesCode=SI_POV_DAY1&areaCode=32&pageSize=28\")\n",
    "series <- as.character(Austria$data$seriesDescription)\n",
    "area <- as.character(Austria$data$geoAreaName)\n",
    "series[1] \n",
    "area[1]"
   ]
  },
  {
   "cell_type": "code",
   "execution_count": 85,
   "metadata": {},
   "outputs": [
    {
     "data": {
      "text/html": [
       "<table>\n",
       "<thead><tr><th scope=col>years</th><th scope=col>values</th></tr></thead>\n",
       "<tbody>\n",
       "\t<tr><td>1991</td><td>1.10</td></tr>\n",
       "\t<tr><td>1992</td><td>2.05</td></tr>\n",
       "\t<tr><td>1993</td><td>2.42</td></tr>\n",
       "\t<tr><td>1994</td><td>2.28</td></tr>\n",
       "\t<tr><td>1995</td><td>4.11</td></tr>\n",
       "\t<tr><td>1996</td><td>4.63</td></tr>\n",
       "</tbody>\n",
       "</table>\n"
      ],
      "text/latex": [
       "\\begin{tabular}{r|ll}\n",
       " years & values\\\\\n",
       "\\hline\n",
       "\t 1991 & 1.10\\\\\n",
       "\t 1992 & 2.05\\\\\n",
       "\t 1993 & 2.42\\\\\n",
       "\t 1994 & 2.28\\\\\n",
       "\t 1995 & 4.11\\\\\n",
       "\t 1996 & 4.63\\\\\n",
       "\\end{tabular}\n"
      ],
      "text/markdown": [
       "\n",
       "years | values | \n",
       "|---|---|---|---|---|---|\n",
       "| 1991 | 1.10 | \n",
       "| 1992 | 2.05 | \n",
       "| 1993 | 2.42 | \n",
       "| 1994 | 2.28 | \n",
       "| 1995 | 4.11 | \n",
       "| 1996 | 4.63 | \n",
       "\n",
       "\n"
      ],
      "text/plain": [
       "  years values\n",
       "1 1991  1.10  \n",
       "2 1992  2.05  \n",
       "3 1993  2.42  \n",
       "4 1994  2.28  \n",
       "5 1995  4.11  \n",
       "6 1996  4.63  "
      ]
     },
     "metadata": {},
     "output_type": "display_data"
    }
   ],
   "source": [
    "dat <- data.frame(\n",
    "  years = as.integer(Austria$data$timePeriodStart),\n",
    "  values = as.double(Austria$data$value)\n",
    ")\n",
    "head(dat)"
   ]
  },
  {
   "cell_type": "code",
   "execution_count": 86,
   "metadata": {},
   "outputs": [
    {
     "data": {},
     "metadata": {},
     "output_type": "display_data"
    },
    {
     "data": {
      "image/png": "[encoded data removed]",
      "text/plain": [
       "plot without title"
      ]
     },
     "metadata": {},
     "output_type": "display_data"
    }
   ],
   "source": [
    "ggplot(data=dat, aes(x=years, y=values, group=1)) + geom_line() +  geom_point()"
   ]
  }
 ],
 "metadata": {
  "kernelspec": {
   "display_name": "R",
   "language": "R",
   "name": "ir"
  },
  "language_info": {
   "codemirror_mode": "r",
   "file_extension": ".r",
   "mimetype": "text/x-r-source",
   "name": "R",
   "pygments_lexer": "r",
   "version": "3.4.3"
  }
 },
 "nbformat": 4,
 "nbformat_minor": 2
}
